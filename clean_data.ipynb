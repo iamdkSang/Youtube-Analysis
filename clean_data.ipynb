{
 "cells": [
  {
   "cell_type": "markdown",
   "metadata": {},
   "source": [
    "## 1. Import libraries and load data"
   ]
  },
  {
   "cell_type": "code",
   "execution_count": 21,
   "metadata": {},
   "outputs": [],
   "source": [
    "import pandas as pd"
   ]
  },
  {
   "cell_type": "code",
   "execution_count": 22,
   "metadata": {},
   "outputs": [
    {
     "name": "stderr",
     "output_type": "stream",
     "text": [
      "C:\\Users\\T14\\AppData\\Local\\Temp\\ipykernel_17208\\3468613540.py:8: DtypeWarning: Columns (6,8,10) have mixed types. Specify dtype option on import or set low_memory=False.\n",
      "  df_video = pd.read_csv('./dataNew.csv')\n"
     ]
    }
   ],
   "source": [
    "df_channel_1 = pd.read_csv('./channels_day_1.csv')\n",
    "df_channel_2 = pd.read_csv('./channels_day_2.csv')\n",
    "df_channel_3 = pd.read_csv('./channels_day_3.csv')\n",
    "df_channel_4 = pd.read_csv('./channels_day_4.csv')\n",
    "df_channel_5 = pd.read_csv('./channels_day_5.csv')\n",
    "# Kết hợp DataFrame của ngày 2 với DataFrame của ngày 1\n",
    "df_channel = pd.concat([df_channel_1, df_channel_2, df_channel_3,df_channel_4,df_channel_5], ignore_index=True)\n",
    "df_video = pd.read_csv('./dataNew.csv')"
   ]
  },
  {
   "cell_type": "markdown",
   "metadata": {},
   "source": [
    "## 2. Overview"
   ]
  },
  {
   "cell_type": "code",
   "execution_count": 23,
   "metadata": {},
   "outputs": [
    {
     "data": {
      "text/plain": [
       "(891, 7)"
      ]
     },
     "execution_count": 23,
     "metadata": {},
     "output_type": "execute_result"
    }
   ],
   "source": [
    "df_channel.shape"
   ]
  },
  {
   "cell_type": "code",
   "execution_count": 24,
   "metadata": {},
   "outputs": [
    {
     "data": {
      "text/plain": [
       "Index(['Channel ID', 'Channel Name', 'Description', 'View', 'Num Subscriber',\n",
       "       'Topic', 'Num Video'],\n",
       "      dtype='object')"
      ]
     },
     "execution_count": 24,
     "metadata": {},
     "output_type": "execute_result"
    }
   ],
   "source": [
    "df_channel.columns"
   ]
  },
  {
   "cell_type": "code",
   "execution_count": 25,
   "metadata": {},
   "outputs": [
    {
     "name": "stdout",
     "output_type": "stream",
     "text": [
      "<class 'pandas.core.frame.DataFrame'>\n",
      "RangeIndex: 891 entries, 0 to 890\n",
      "Data columns (total 7 columns):\n",
      " #   Column          Non-Null Count  Dtype \n",
      "---  ------          --------------  ----- \n",
      " 0   Channel ID      891 non-null    object\n",
      " 1   Channel Name    891 non-null    object\n",
      " 2   Description     824 non-null    object\n",
      " 3   View            891 non-null    int64 \n",
      " 4   Num Subscriber  891 non-null    int64 \n",
      " 5   Topic           891 non-null    object\n",
      " 6   Num Video       891 non-null    int64 \n",
      "dtypes: int64(3), object(4)\n",
      "memory usage: 48.9+ KB\n"
     ]
    }
   ],
   "source": [
    "df_channel.info()"
   ]
  },
  {
   "cell_type": "code",
   "execution_count": 26,
   "metadata": {},
   "outputs": [
    {
     "data": {
      "text/plain": [
       "(259027, 14)"
      ]
     },
     "execution_count": 26,
     "metadata": {},
     "output_type": "execute_result"
    }
   ],
   "source": [
    "df_video.shape"
   ]
  },
  {
   "cell_type": "code",
   "execution_count": 27,
   "metadata": {},
   "outputs": [
    {
     "data": {
      "text/plain": [
       "Index(['Unnamed: 0', 'Channel ID', 'Channel Name', 'Video ID', 'Title',\n",
       "       'Topic', 'Duration', 'Published At', 'View', 'Like', 'Num Comments',\n",
       "       'Date', 'Description', 'Tag'],\n",
       "      dtype='object')"
      ]
     },
     "execution_count": 27,
     "metadata": {},
     "output_type": "execute_result"
    }
   ],
   "source": [
    "df_video.columns"
   ]
  },
  {
   "cell_type": "code",
   "execution_count": 28,
   "metadata": {},
   "outputs": [
    {
     "name": "stdout",
     "output_type": "stream",
     "text": [
      "<class 'pandas.core.frame.DataFrame'>\n",
      "RangeIndex: 259027 entries, 0 to 259026\n",
      "Data columns (total 14 columns):\n",
      " #   Column        Non-Null Count   Dtype \n",
      "---  ------        --------------   ----- \n",
      " 0   Unnamed: 0    259027 non-null  int64 \n",
      " 1   Channel ID    259027 non-null  object\n",
      " 2   Channel Name  259027 non-null  object\n",
      " 3   Video ID      259027 non-null  object\n",
      " 4   Title         259027 non-null  object\n",
      " 5   Topic         258150 non-null  object\n",
      " 6   Duration      259027 non-null  object\n",
      " 7   Published At  259027 non-null  object\n",
      " 8   View          259027 non-null  object\n",
      " 9   Like          258209 non-null  object\n",
      " 10  Num Comments  258905 non-null  object\n",
      " 11  Date          259027 non-null  object\n",
      " 12  Description   176780 non-null  object\n",
      " 13  Tag           191355 non-null  object\n",
      "dtypes: int64(1), object(13)\n",
      "memory usage: 27.7+ MB\n"
     ]
    }
   ],
   "source": [
    "df_video.info()"
   ]
  },
  {
   "cell_type": "markdown",
   "metadata": {},
   "source": [
    "## 3. Missing Values"
   ]
  },
  {
   "cell_type": "code",
   "execution_count": 29,
   "metadata": {},
   "outputs": [
    {
     "data": {
      "text/plain": [
       "Channel ID         0\n",
       "Channel Name       0\n",
       "Description       67\n",
       "View               0\n",
       "Num Subscriber     0\n",
       "Topic              0\n",
       "Num Video          0\n",
       "dtype: int64"
      ]
     },
     "execution_count": 29,
     "metadata": {},
     "output_type": "execute_result"
    }
   ],
   "source": [
    "df_channel.isnull().sum()"
   ]
  },
  {
   "cell_type": "code",
   "execution_count": 30,
   "metadata": {},
   "outputs": [
    {
     "data": {
      "text/plain": [
       "Unnamed: 0          0\n",
       "Channel ID          0\n",
       "Channel Name        0\n",
       "Video ID            0\n",
       "Title               0\n",
       "Topic             877\n",
       "Duration            0\n",
       "Published At        0\n",
       "View                0\n",
       "Like              818\n",
       "Num Comments      122\n",
       "Date                0\n",
       "Description     82247\n",
       "Tag             67672\n",
       "dtype: int64"
      ]
     },
     "execution_count": 30,
     "metadata": {},
     "output_type": "execute_result"
    }
   ],
   "source": [
    "df_video.isnull().sum()"
   ]
  },
  {
   "cell_type": "code",
   "execution_count": 31,
   "metadata": {},
   "outputs": [
    {
     "data": {
      "text/plain": [
       "151736"
      ]
     },
     "execution_count": 31,
     "metadata": {},
     "output_type": "execute_result"
    }
   ],
   "source": [
    "df_video.isnull().sum().sum()"
   ]
  },
  {
   "cell_type": "markdown",
   "metadata": {},
   "source": [
    "## 4. Handle Missing"
   ]
  },
  {
   "cell_type": "code",
   "execution_count": 41,
   "metadata": {},
   "outputs": [
    {
     "data": {
      "text/plain": [
       "Channel ID        0\n",
       "Channel Name      0\n",
       "Description       0\n",
       "View              0\n",
       "Num Subscriber    0\n",
       "Topic             0\n",
       "Num Video         0\n",
       "dtype: int64"
      ]
     },
     "execution_count": 41,
     "metadata": {},
     "output_type": "execute_result"
    }
   ],
   "source": [
    "df_channel['Description'].fillna('No Description', inplace=True)\n",
    "df_channel['Description'] = df_channel['Description'].replace(\"\\n\",\"No Description\")\n",
    "df_channel.isnull().sum()"
   ]
  },
  {
   "cell_type": "code",
   "execution_count": 49,
   "metadata": {},
   "outputs": [
    {
     "data": {
      "text/plain": [
       "Unnamed: 0      0\n",
       "Channel ID      0\n",
       "Channel Name    0\n",
       "Video ID        0\n",
       "Title           0\n",
       "Topic           0\n",
       "Duration        0\n",
       "Published At    0\n",
       "View            0\n",
       "Like            0\n",
       "Num Comments    0\n",
       "Date            0\n",
       "Description     0\n",
       "Tag             0\n",
       "dtype: int64"
      ]
     },
     "execution_count": 49,
     "metadata": {},
     "output_type": "execute_result"
    }
   ],
   "source": [
    "df_video['Description'].fillna('No Description', inplace=True)\n",
    "df_video['Tag'].fillna('No Tag', inplace=True)\n",
    "df_video['Topic'].fillna('No Topic', inplace=True)\n",
    "df_video['Like'].fillna('0', inplace=True)\n",
    "df_video['Num Comments'].fillna('0', inplace=True)\n",
    "df_video['Tag'] = df_video['Tag'].replace('None','No Tag')\n",
    "df_video.isnull().sum()"
   ]
  }
 ],
 "metadata": {
  "kernelspec": {
   "display_name": "Python 3",
   "language": "python",
   "name": "python3"
  },
  "language_info": {
   "codemirror_mode": {
    "name": "ipython",
    "version": 3
   },
   "file_extension": ".py",
   "mimetype": "text/x-python",
   "name": "python",
   "nbconvert_exporter": "python",
   "pygments_lexer": "ipython3",
   "version": "3.10.0"
  }
 },
 "nbformat": 4,
 "nbformat_minor": 2
}
